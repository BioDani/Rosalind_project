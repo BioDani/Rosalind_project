{
 "cells": [
  {
   "cell_type": "code",
   "execution_count": 6,
   "metadata": {},
   "outputs": [
    {
     "name": "stdout",
     "output_type": "stream",
     "text": [
      "TGAC\n"
     ]
    }
   ],
   "source": [
    "sequence = \"GTCA\"\n",
    "complementary = {\"A\": \"T\",\n",
    "                 \"C\": \"G\",\n",
    "                 \"G\": \"C\",\n",
    "                 \"T\": \"A\"}\n",
    "        \n",
    "complementary_list = [complementary[i] for i in sequence]\n",
    "reverse_complementary_list = complementary_list[::-1]\n",
    "print(\"\".join(reverse_complementary_list))"
   ]
  }
 ],
 "metadata": {
  "kernelspec": {
   "display_name": "Python 3",
   "language": "python",
   "name": "python3"
  },
  "language_info": {
   "codemirror_mode": {
    "name": "ipython",
    "version": 3
   },
   "file_extension": ".py",
   "mimetype": "text/x-python",
   "name": "python",
   "nbconvert_exporter": "python",
   "pygments_lexer": "ipython3",
   "version": "3.11.9"
  }
 },
 "nbformat": 4,
 "nbformat_minor": 2
}
